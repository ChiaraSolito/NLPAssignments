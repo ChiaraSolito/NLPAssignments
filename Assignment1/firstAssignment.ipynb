{
 "cells": [
  {
   "cell_type": "code",
   "execution_count": 53,
   "metadata": {},
   "outputs": [],
   "source": [
    "import re\n",
    "import pandas as pd\n",
    "import numpy as np\n",
    "import math\n",
    "import random\n",
    "\n",
    "from sklearn.preprocessing import LabelEncoder\n",
    "from sklearn.model_selection import train_test_split\n",
    "from sklearn.metrics import classification_report\n",
    "\n",
    "from sklearn.metrics import accuracy_score\n",
    "from sklearn.feature_extraction.text import CountVectorizer\n",
    "from collections import defaultdict\n",
    "\n",
    "from nltk.corpus import stopwords\n",
    "from nltk.corpus import genesis\n",
    "from nltk.corpus import udhr"
   ]
  },
  {
   "cell_type": "markdown",
   "metadata": {},
   "source": [
    "# Creating corpus"
   ]
  },
  {
   "cell_type": "code",
   "execution_count": 54,
   "metadata": {},
   "outputs": [],
   "source": [
    "english = genesis.words(\"english-kjv.txt\")\n",
    "english_web = genesis.words(\"english-web.txt\")\n",
    "finnish = genesis.words(\"finnish.txt\")\n",
    "french = genesis.words(\"french.txt\")\n",
    "portuguese = genesis.words(\"portuguese.txt\")\n",
    "\n",
    "languages = ['English-Latin1', 'German_Deutsch-Latin1', 'French_Francais-Latin1', 'Spanish-Latin1']\n",
    "\n",
    "d = {'genesis_corpus': [english, english_web, french, finnish,portuguese], 'language': [1,1, 0,0,0]}\n",
    "for language in languages:\n",
    "    if language != 'English-Latin1':\n",
    "        d['genesis_corpus'].append(udhr.words(language))\n",
    "        d['language'].append(0)\n",
    "    else:\n",
    "        d['genesis_corpus'].append(udhr.words(language))\n",
    "        d['language'].append(1)\n",
    "df = pd.DataFrame(data=d)"
   ]
  },
  {
   "cell_type": "markdown",
   "metadata": {},
   "source": [
    "# Pre-processing"
   ]
  },
  {
   "cell_type": "code",
   "execution_count": 55,
   "metadata": {},
   "outputs": [],
   "source": [
    "def remove_nonalpha(string):\n",
    "    results = [word for word in string if re.match(r'[a-zA-Z]+',word)]\n",
    "    return results"
   ]
  },
  {
   "cell_type": "code",
   "execution_count": 56,
   "metadata": {},
   "outputs": [],
   "source": [
    "df['genesis_corpus']=df['genesis_corpus'].apply(lambda cw : remove_nonalpha(cw))"
   ]
  },
  {
   "cell_type": "code",
   "execution_count": 57,
   "metadata": {},
   "outputs": [],
   "source": [
    "def remove_stopwords(string):\n",
    "    stop_words = set(stopwords.words('english') + stopwords.words('french') + \n",
    "    stopwords.words('finnish') + stopwords.words('portuguese') + \n",
    "    stopwords.words('german')+ stopwords.words('spanish'))\n",
    "    results = []\n",
    "    for word in string:\n",
    "        if word not in stop_words: results.append(word.lower())\n",
    "    return ' '.join(results)"
   ]
  },
  {
   "cell_type": "code",
   "execution_count": 58,
   "metadata": {},
   "outputs": [],
   "source": [
    "df['genesis_corpus']=df['genesis_corpus'].apply(lambda cw : remove_stopwords(cw))"
   ]
  },
  {
   "cell_type": "markdown",
   "metadata": {},
   "source": [
    "# Tokenization and creation of the BoW"
   ]
  },
  {
   "cell_type": "code",
   "execution_count": 59,
   "metadata": {},
   "outputs": [],
   "source": [
    "import nltk\n",
    "w_tokenizer = nltk.tokenize.WhitespaceTokenizer()\n",
    "#lemmatizer = nltk.stem.WordNetLemmatizer()"
   ]
  },
  {
   "cell_type": "code",
   "execution_count": 60,
   "metadata": {},
   "outputs": [],
   "source": [
    "def bagofwords(corpus):\n",
    "    wordfreq = {}\n",
    "    tokens = w_tokenizer.tokenize(corpus)\n",
    "    for token in tokens:\n",
    "        if token not in wordfreq.keys():\n",
    "            wordfreq[token] = 1\n",
    "        else:\n",
    "            wordfreq[token] += 1\n",
    "    return wordfreq"
   ]
  },
  {
   "cell_type": "code",
   "execution_count": 61,
   "metadata": {},
   "outputs": [],
   "source": [
    "df['genesis_corpus'] = df['genesis_corpus'].apply(lambda cw : bagofwords(cw))"
   ]
  },
  {
   "cell_type": "markdown",
   "metadata": {},
   "source": [
    "# Creating labeled corpus in the correct format"
   ]
  },
  {
   "cell_type": "code",
   "execution_count": 62,
   "metadata": {},
   "outputs": [],
   "source": [
    "no_eng = list(np.where(df['language'] == 0)[0])\n",
    "eng = list(np.where(df['language'] == 1)[0])"
   ]
  },
  {
   "cell_type": "code",
   "execution_count": 63,
   "metadata": {},
   "outputs": [],
   "source": [
    "labeled_corpusno = [\n",
    "    ({word:freq}, 'non-english') \n",
    "    for corp in df.iloc[no_eng]['genesis_corpus']\n",
    "    for word,freq in corp.items()\n",
    "]\n",
    "labeled_corpuseng = [\n",
    "    ({word:freq}, 'english') \n",
    "    for corp in df.iloc[eng]['genesis_corpus']\n",
    "    for word,freq in corp.items()\n",
    "    ]\n",
    "featureset = labeled_corpuseng + labeled_corpusno\n",
    "random.shuffle(featureset)"
   ]
  },
  {
   "cell_type": "markdown",
   "metadata": {},
   "source": [
    "## Creating training and testing set"
   ]
  },
  {
   "cell_type": "code",
   "execution_count": 64,
   "metadata": {},
   "outputs": [],
   "source": [
    "train = featureset[:math.ceil(2*(len(featureset)/3))]\n",
    "test = featureset[math.ceil(2*(len(featureset)/3)):]"
   ]
  },
  {
   "cell_type": "markdown",
   "metadata": {},
   "source": [
    "# Creating the classifier"
   ]
  },
  {
   "cell_type": "code",
   "execution_count": 65,
   "metadata": {},
   "outputs": [],
   "source": [
    "classifier = nltk.NaiveBayesClassifier.train(train)"
   ]
  },
  {
   "cell_type": "code",
   "execution_count": 66,
   "metadata": {},
   "outputs": [
    {
     "name": "stdout",
     "output_type": "stream",
     "text": [
      "Most Informative Features\n",
      "                 abimael = 1              englis : non-en =      4.5 : 1.0\n",
      "                   altar = 13             englis : non-en =      4.5 : 1.0\n",
      "                   alvan = 1              englis : non-en =      4.5 : 1.0\n",
      "                 archers = 1              englis : non-en =      4.5 : 1.0\n",
      "                   bedad = 1              englis : non-en =      4.5 : 1.0\n",
      "              concubines = 1              englis : non-en =      4.5 : 1.0\n",
      "                 dodanim = 1              englis : non-en =      4.5 : 1.0\n",
      "                    ebal = 1              englis : non-en =      4.5 : 1.0\n",
      "                 ellasar = 2              englis : non-en =      4.5 : 1.0\n",
      "                    gaza = 1              englis : non-en =      4.5 : 1.0\n",
      "                  gopher = 1              englis : non-en =      4.5 : 1.0\n",
      "                   hamul = 1              englis : non-en =      4.5 : 1.0\n",
      "                   heber = 1              englis : non-en =      4.5 : 1.0\n",
      "                  hemdan = 1              englis : non-en =      4.5 : 1.0\n",
      "                     hul = 1              englis : non-en =      4.5 : 1.0\n"
     ]
    }
   ],
   "source": [
    "classifier.show_most_informative_features(15)"
   ]
  },
  {
   "cell_type": "code",
   "execution_count": 67,
   "metadata": {},
   "outputs": [
    {
     "name": "stdout",
     "output_type": "stream",
     "text": [
      "0.7861942577886377\n"
     ]
    }
   ],
   "source": [
    "print(nltk.classify.accuracy(classifier, test))"
   ]
  },
  {
   "cell_type": "code",
   "execution_count": 68,
   "metadata": {},
   "outputs": [],
   "source": [
    "test_wolabes = [item[0] for item in test]"
   ]
  },
  {
   "cell_type": "code",
   "execution_count": 69,
   "metadata": {},
   "outputs": [],
   "source": [
    "test_classified = classifier.classify_many(test_wolabes)"
   ]
  },
  {
   "cell_type": "code",
   "execution_count": 70,
   "metadata": {},
   "outputs": [],
   "source": [
    "reference = [elem[1]\n",
    "    for elem in test \n",
    "]"
   ]
  },
  {
   "cell_type": "code",
   "execution_count": 71,
   "metadata": {},
   "outputs": [],
   "source": [
    "from nltk.metrics import ConfusionMatrix\n",
    "cm = ConfusionMatrix(reference,test_classified)"
   ]
  },
  {
   "cell_type": "code",
   "execution_count": 72,
   "metadata": {},
   "outputs": [
    {
     "name": "stdout",
     "output_type": "stream",
     "text": [
      "            |         n |\n",
      "            |         o |\n",
      "            |         n |\n",
      "            |         - |\n",
      "            |    e    e |\n",
      "            |    n    n |\n",
      "            |    g    g |\n",
      "            |    l    l |\n",
      "            |    i    i |\n",
      "            |    s    s |\n",
      "            |    h    h |\n",
      "------------+-----------+\n",
      "    english | <458>1325 |\n",
      "non-english |   75<4690>|\n",
      "------------+-----------+\n",
      "(row = reference; col = test)\n",
      "\n"
     ]
    }
   ],
   "source": [
    "print(cm)"
   ]
  },
  {
   "cell_type": "code",
   "execution_count": 73,
   "metadata": {},
   "outputs": [
    {
     "data": {
      "text/plain": [
       "0.8592870544090057"
      ]
     },
     "execution_count": 73,
     "metadata": {},
     "output_type": "execute_result"
    }
   ],
   "source": [
    "cm.precision('english')"
   ]
  },
  {
   "cell_type": "code",
   "execution_count": 74,
   "metadata": {},
   "outputs": [
    {
     "data": {
      "text/plain": [
       "0.2568704430734717"
      ]
     },
     "execution_count": 74,
     "metadata": {},
     "output_type": "execute_result"
    }
   ],
   "source": [
    "cm.recall('english')"
   ]
  },
  {
   "cell_type": "code",
   "execution_count": 75,
   "metadata": {},
   "outputs": [
    {
     "data": {
      "text/plain": [
       "0.7797173732335827"
      ]
     },
     "execution_count": 75,
     "metadata": {},
     "output_type": "execute_result"
    }
   ],
   "source": [
    "cm.precision('non-english')"
   ]
  },
  {
   "cell_type": "code",
   "execution_count": 76,
   "metadata": {},
   "outputs": [
    {
     "data": {
      "text/plain": [
       "0.9842602308499475"
      ]
     },
     "execution_count": 76,
     "metadata": {},
     "output_type": "execute_result"
    }
   ],
   "source": [
    "cm.recall('non-english')"
   ]
  },
  {
   "cell_type": "code",
   "execution_count": 77,
   "metadata": {},
   "outputs": [
    {
     "data": {
      "text/plain": [
       "0.3955094991364422"
      ]
     },
     "execution_count": 77,
     "metadata": {},
     "output_type": "execute_result"
    }
   ],
   "source": [
    "cm.f_measure('english')"
   ]
  },
  {
   "cell_type": "code",
   "execution_count": 78,
   "metadata": {},
   "outputs": [
    {
     "data": {
      "text/plain": [
       "0.8701298701298701"
      ]
     },
     "execution_count": 78,
     "metadata": {},
     "output_type": "execute_result"
    }
   ],
   "source": [
    "cm.f_measure('non-english')"
   ]
  }
 ],
 "metadata": {
  "kernelspec": {
   "display_name": "Python 3.9.13 ('nlp-lab')",
   "language": "python",
   "name": "python3"
  },
  "language_info": {
   "codemirror_mode": {
    "name": "ipython",
    "version": 3
   },
   "file_extension": ".py",
   "mimetype": "text/x-python",
   "name": "python",
   "nbconvert_exporter": "python",
   "pygments_lexer": "ipython3",
   "version": "3.9.13"
  },
  "orig_nbformat": 4,
  "vscode": {
   "interpreter": {
    "hash": "4c64eeec08d42ac7ac27ab0b26ac9e0a2484cb53a71110001525c154459aec0a"
   }
  }
 },
 "nbformat": 4,
 "nbformat_minor": 2
}
